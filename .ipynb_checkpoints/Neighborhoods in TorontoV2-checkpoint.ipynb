{
 "cells": [
  {
   "cell_type": "markdown",
   "metadata": {},
   "source": [
    "# Importing Required packages"
   ]
  },
  {
   "cell_type": "code",
   "execution_count": null,
   "metadata": {},
   "outputs": [],
   "source": [
    "import urllib.request\n",
    "from bs4 import BeautifulSoup\n",
    "import pandas as pd"
   ]
  },
  {
   "cell_type": "markdown",
   "metadata": {},
   "source": [
    "# Scraping data\n",
    " Assuming that data is housed in a table in class wikitable"
   ]
  },
  {
   "cell_type": "code",
   "execution_count": null,
   "metadata": {},
   "outputs": [],
   "source": [
    "url = \"https://en.wikipedia.org/wiki/List_of_postal_codes_of_Canada:_M\"\n",
    "response = urllib.request.urlopen(url)\n",
    "soup = BeautifulSoup(response, \"html\")\n",
    "table=soup.find(\"table\",class_=\"wikitable\")"
   ]
  },
  {
   "cell_type": "markdown",
   "metadata": {},
   "source": [
    "# Extracting\n",
    " Assuming that\n",
    "    * Not assigned always is noted as \"Not assigned'\n",
    "    * Data is in a table three columns in the order 'Postcode', 'Borough','Neighbourhood'"
   ]
  },
  {
   "cell_type": "code",
   "execution_count": null,
   "metadata": {},
   "outputs": [],
   "source": [
    "postcodeList=[]\n",
    "boroughList=[]\n",
    "neighbourhoodList=[]\n",
    "\n",
    "for row in table.findAll('tr'):\n",
    "    cells=row.findAll('td')\n",
    "    if len(cells)==3 and cells[1].find(text=True).replace('\\n','') != 'Not assigned' :\n",
    "        postcodeList.append(cells[0].find(text=True).replace('\\n',''))\n",
    "        boroughList.append(cells[1].find(text=True).replace('\\n',''))\n",
    "        if cells[2].find(text=True).replace('\\n','')== 'Not assigned' :\n",
    "            neighbourhoodList.append(cells[1].find(text=True).replace('\\n',''))\n",
    "        else:\n",
    "            neighbourhoodList.append(cells[2].find(text=True).replace('\\n',''))"
   ]
  },
  {
   "cell_type": "code",
   "execution_count": null,
   "metadata": {},
   "outputs": [],
   "source": [
    "df=pd.DataFrame(list(zip(postcodeList,boroughList,neighbourhoodList)),columns =['Postcode', 'Borough','Neighbourhood'])"
   ]
  },
  {
   "cell_type": "code",
   "execution_count": null,
   "metadata": {},
   "outputs": [],
   "source": [
    "!wget http://cocl.us/Geospatial_data"
   ]
  },
  {
   "cell_type": "code",
   "execution_count": null,
   "metadata": {},
   "outputs": [],
   "source": [
    "df.shape"
   ]
  },
  {
   "cell_type": "code",
   "execution_count": null,
   "metadata": {},
   "outputs": [],
   "source": [
    "geodf=pd.read_csv(\"Geospatial_Coordinates.csv\")"
   ]
  },
  {
   "cell_type": "code",
   "execution_count": null,
   "metadata": {},
   "outputs": [],
   "source": [
    "geodf"
   ]
  },
  {
   "cell_type": "code",
   "execution_count": null,
   "metadata": {},
   "outputs": [],
   "source": []
  }
 ],
 "metadata": {
  "kernelspec": {
   "display_name": "Python 3",
   "language": "python",
   "name": "python3"
  },
  "language_info": {
   "codemirror_mode": {
    "name": "ipython",
    "version": 3
   },
   "file_extension": ".py",
   "mimetype": "text/x-python",
   "name": "python",
   "nbconvert_exporter": "python",
   "pygments_lexer": "ipython3",
   "version": "3.8.2"
  }
 },
 "nbformat": 4,
 "nbformat_minor": 4
}
